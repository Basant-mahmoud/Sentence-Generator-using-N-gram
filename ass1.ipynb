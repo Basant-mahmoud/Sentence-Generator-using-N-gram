{
 "cells": [
  {
   "cell_type": "code",
   "execution_count": 2,
   "metadata": {},
   "outputs": [
    {
     "name": "stderr",
     "output_type": "stream",
     "text": [
      "[nltk_data] Downloading package brown to\n",
      "[nltk_data]     C:\\Users\\lenovo\\AppData\\Roaming\\nltk_data...\n",
      "[nltk_data]   Package brown is already up-to-date!\n"
     ]
    },
    {
     "name": "stdout",
     "output_type": "stream",
     "text": [
      "state employees has\n",
      "pagans as well\n",
      "the gilt and\n",
      "sayings when britain\n",
      "eta give an\n"
     ]
    }
   ],
   "source": [
    "import nltk # type: ignore\n",
    "import random\n",
    "\n",
    "# Download Brown corpus if not already downloaded\n",
    "nltk.download('brown')\n",
    "from nltk.corpus import brown\n",
    "#prepare sentance by removing punctuation and convert  it to lowercase\n",
    "def Prepare(sentence):\n",
    "    tokens = [word.lower() for word in sentence if word.isalnum()]  \n",
    "    return tokens\n",
    "# corpus and size of n gram\n",
    "def build_ngram_model(corpus, n):\n",
    "    ngram_model = {}\n",
    "    for sentence in corpus:\n",
    "        #call function repare to convert to lowercase and remove punctuation\n",
    "        tokens = Prepare(sentence)\n",
    "        #operate over token list that n number of word in sentnce\n",
    "        for i in range(len(tokens) - n + 1):\n",
    "            #ine creates an n-gram tuple by slicing the tokens\n",
    "            ngram = tuple(tokens[i:i+n-1])\n",
    "            # next word\n",
    "            next_word = tokens[i+n-1]\n",
    "            if ngram not in ngram_model:\n",
    "                ngram_model[ngram] = []\n",
    "            ngram_model[ngram].append(next_word)\n",
    "    return ngram_model\n",
    "# dictinary contain ngram \n",
    "def generate_sentence(ngram_model, n, max_len):\n",
    "    #start with random index\n",
    "    start = random.choice(list(ngram_model.keys()))  \n",
    "    sentence = list(start)\n",
    "    while len(sentence) < max_len:\n",
    "        # -n+1 for last indix we can make it n-1\n",
    "        if tuple(sentence[-n+1:]) in ngram_model:\n",
    "            next_word = random.choice(ngram_model[tuple(sentence[-n+1:])])\n",
    "            sentence.append(next_word)\n",
    "        else:\n",
    "            break\n",
    "    return ' '.join(sentence)\n",
    "\n",
    "def main():\n",
    "    m = int(input(\" number of sentences to generate?? \"))\n",
    "    n = int(input(\" (2 for bigram, 3 for trigram) value for n ?? \"))\n",
    "    max_len = int(input(\" maximum number of words in a sentence you want ??\"))\n",
    "\n",
    "    # store all sentance in Brown to  corpus\n",
    "    corpus = brown.sents()  \n",
    "    ngram_model = build_ngram_model(corpus, n)\n",
    "    \n",
    "    for _ in range(m):\n",
    "        sentence = generate_sentence(ngram_model, n, max_len)\n",
    "        print(sentence)\n",
    "\n",
    "if __name__ == \"__main__\":\n",
    "    main()\n"
   ]
  }
 ],
 "metadata": {
  "kernelspec": {
   "display_name": "Python 3",
   "language": "python",
   "name": "python3"
  },
  "language_info": {
   "codemirror_mode": {
    "name": "ipython",
    "version": 3
   },
   "file_extension": ".py",
   "mimetype": "text/x-python",
   "name": "python",
   "nbconvert_exporter": "python",
   "pygments_lexer": "ipython3",
   "version": "3.11.5"
  }
 },
 "nbformat": 4,
 "nbformat_minor": 2
}
